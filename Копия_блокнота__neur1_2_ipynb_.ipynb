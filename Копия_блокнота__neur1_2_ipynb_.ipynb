{
  "nbformat": 4,
  "nbformat_minor": 0,
  "metadata": {
    "colab": {
      "provenance": [],
      "gpuType": "T4",
      "include_colab_link": true
    },
    "kernelspec": {
      "name": "python3",
      "display_name": "Python 3"
    },
    "language_info": {
      "name": "python"
    },
    "accelerator": "GPU"
  },
  "cells": [
    {
      "cell_type": "markdown",
      "metadata": {
        "id": "view-in-github",
        "colab_type": "text"
      },
      "source": [
        "<a href=\"https://colab.research.google.com/github/krivosheymax/MNIST-1/blob/main/%D0%9A%D0%BE%D0%BF%D0%B8%D1%8F_%D0%B1%D0%BB%D0%BE%D0%BA%D0%BD%D0%BE%D1%82%D0%B0__neur1_2_ipynb_.ipynb\" target=\"_parent\"><img src=\"https://colab.research.google.com/assets/colab-badge.svg\" alt=\"Open In Colab\"/></a>"
      ]
    },
    {
      "cell_type": "code",
      "execution_count": null,
      "metadata": {
        "id": "XghpsFCgztqN"
      },
      "outputs": [],
      "source": [
        "nn1 = 80\n",
        "nn2 = 108\n",
        "nn3 = 156\n",
        "nn4 = 244\n",
        "nn5 = 319\n",
        "nn6 = 435\n",
        "nn7 = 2000\n",
        "nn8 = 500\n",
        "nc = 10\n",
        "\n",
        "bs = 64\n",
        "lr = 0.0001\n",
        "ep = 70\n",
        "\n",
        "dev = \"cuda\"\n",
        "#dev='cpu'"
      ]
    },
    {
      "cell_type": "code",
      "source": [
        "import torch\n",
        "import torch.nn as nn\n",
        "import torch.nn.functional as F\n",
        "import torch.utils.data"
      ],
      "metadata": {
        "id": "flngnlddzwzL"
      },
      "execution_count": null,
      "outputs": []
    },
    {
      "cell_type": "code",
      "source": [
        "import numpy as np\n",
        "import matplotlib.pyplot as plt"
      ],
      "metadata": {
        "id": "JSQWiTYm0Dwk"
      },
      "execution_count": null,
      "outputs": []
    },
    {
      "cell_type": "code",
      "source": [
        "from sklearn.datasets import fetch_openml\n",
        "X, y = fetch_openml('mnist_784', version=1, return_X_y=True, as_frame=False)\n",
        "y = y.astype(int)"
      ],
      "metadata": {
        "id": "eFLEC4-S0Kk1"
      },
      "execution_count": null,
      "outputs": []
    },
    {
      "cell_type": "code",
      "source": [
        "plt.figure(figsize=(6,6))\n",
        "for i in range(3):\n",
        "  plt.subplot(1, 3, i+1)\n",
        "  plt.imshow(X[i].reshape(28, 28), cmap=\"Greys\")\n",
        "plt.show()"
      ],
      "metadata": {
        "colab": {
          "base_uri": "https://localhost:8080/",
          "height": 200
        },
        "id": "HiV2LbBk0jQ7",
        "outputId": "b2a15f7f-51f3-43f0-8118-3ebdd892d43d"
      },
      "execution_count": null,
      "outputs": [
        {
          "output_type": "display_data",
          "data": {
            "text/plain": [
              "<Figure size 600x600 with 3 Axes>"
            ],
            "image/png": "[encoded data removed]"
          },
          "metadata": {}
        }
      ]
    },
    {
      "cell_type": "code",
      "source": [
        "X_train, X_test, y_train, y_test = X[:60000], X[60000:], y[:60000], y[60000:]"
      ],
      "metadata": {
        "id": "XcA7MoJW4YDG"
      },
      "execution_count": null,
      "outputs": []
    },
    {
      "cell_type": "code",
      "source": [
        "train_dset = torch.utils.data.TensorDataset(torch.from_numpy(X_train).float(), torch.from_numpy(y_train).long())\n",
        "train_loader =  torch.utils.data.DataLoader(train_dset, batch_size=bs)"
      ],
      "metadata": {
        "id": "aCAOLP_B4kVS"
      },
      "execution_count": null,
      "outputs": []
    },
    {
      "cell_type": "code",
      "source": [
        "test_dset = torch.utils.data.TensorDataset(torch.from_numpy(X_test).float(), torch.from_numpy(y_test).long())\n",
        "test_loader =  torch.utils.data.DataLoader(test_dset, batch_size=bs)"
      ],
      "metadata": {
        "id": "CZfmuELq5nVJ"
      },
      "execution_count": null,
      "outputs": []
    },
    {
      "cell_type": "code",
      "source": [
        "class FCN(nn.Module):\n",
        "  def __init__(self):\n",
        "    super(FCN, self).__init__()\n",
        "    self.cc1 = nn.Conv2d(1, nn1, 5)\n",
        "    self.cc2 = nn.Conv2d(nn1, nn2, 5)\n",
        "    self.cc3 = nn.Conv2d(nn2, nn3, 5)\n",
        "    self.cc4 = nn.Conv2d(nn3, nn4, 5)\n",
        "    self.cc5 = nn.Conv2d(nn4, nn5, 3)\n",
        "    self.cc6 = nn.Conv2d(nn5, nn6, 3)\n",
        "    self.fc1 = nn.Linear(27840, nn7)\n",
        "    self.fc2 = nn.Linear(nn7, nn8)\n",
        "    self.fc3 = nn.Linear(nn8, nc)\n",
        "\n",
        "  def forward(self, x):\n",
        "    z1 = F.relu(self.cc1(x))\n",
        "    z2 = F.relu(self.cc2(z1))\n",
        "    z3 = F.relu(self.cc3(z2))\n",
        "    z4 = F.relu(self.cc4(z3))\n",
        "    z5 = F.relu(self.cc5(z4))\n",
        "    z6 = F.relu(self.cc6(z5))\n",
        "    #print(z6.shape)\n",
        "    z6 = z6.reshape(z6.shape[0], z6.shape[1]*z6.shape[2]*z6.shape[3])\n",
        "    #print(z6.shape)\n",
        "    z7 = F.dropout(F.relu(self.fc1(z6)), p=0.005)\n",
        "    z8 = F.relu(self.fc2(z7))\n",
        "    z9 = self.fc3(z8)\n",
        "    return z9"
      ],
      "metadata": {
        "id": "Dr_2xeh65uz1"
      },
      "execution_count": null,
      "outputs": []
    },
    {
      "cell_type": "code",
      "source": [
        "net = FCN()"
      ],
      "metadata": {
        "id": "M1rbe-6m7-IQ"
      },
      "execution_count": null,
      "outputs": []
    },
    {
      "cell_type": "code",
      "source": [
        "net.to(dev)"
      ],
      "metadata": {
        "colab": {
          "base_uri": "https://localhost:8080/"
        },
        "id": "hUGTfKez_WVE",
        "outputId": "0ffdd989-109e-41e4-c966-deeab2eb83ac"
      },
      "execution_count": null,
      "outputs": [
        {
          "output_type": "execute_result",
          "data": {
            "text/plain": [
              "FCN(\n",
              "  (cc1): Conv2d(1, 80, kernel_size=(5, 5), stride=(1, 1))\n",
              "  (cc2): Conv2d(80, 108, kernel_size=(5, 5), stride=(1, 1))\n",
              "  (cc3): Conv2d(108, 156, kernel_size=(5, 5), stride=(1, 1))\n",
              "  (cc4): Conv2d(156, 244, kernel_size=(5, 5), stride=(1, 1))\n",
              "  (cc5): Conv2d(244, 319, kernel_size=(3, 3), stride=(1, 1))\n",
              "  (cc6): Conv2d(319, 435, kernel_size=(3, 3), stride=(1, 1))\n",
              "  (fc1): Linear(in_features=27840, out_features=2000, bias=True)\n",
              "  (fc2): Linear(in_features=2000, out_features=500, bias=True)\n",
              "  (fc3): Linear(in_features=500, out_features=10, bias=True)\n",
              ")"
            ]
          },
          "metadata": {},
          "execution_count": 23
        }
      ]
    },
    {
      "cell_type": "code",
      "source": [
        "crit = nn.CrossEntropyLoss()\n",
        "opt = torch.optim.Adam(net.parameters(), lr=lr)"
      ],
      "metadata": {
        "id": "96znbzIl_blT"
      },
      "execution_count": null,
      "outputs": []
    },
    {
      "cell_type": "code",
      "source": [
        "q = []\n",
        "tot = len(train_loader)\n",
        "for i in range(ep):\n",
        "    for j, (a, b) in enumerate(train_loader):\n",
        "      a = a.to(dev)\n",
        "      b = b.to(dev)\n",
        "      #print(a.shape)\n",
        "      a = a.reshape(a.shape[0], 1, 28, 28)\n",
        "      #print(a.shape, a[0])\n",
        "      out = net(a)\n",
        "      loss = crit(out, b)\n",
        "      opt.zero_grad()\n",
        "      loss.backward()\n",
        "      opt.step()\n",
        "      if(j+1)%200==0:\n",
        "        q.append(loss.item())\n",
        "        print('Epoch {}/{} Step {}/{} LossL{:.4f}'.format(i+1, ep, j+1, tot, loss.item()))\n",
        "plt.scatter(range(len(q)), q, s=3, c='black')"
      ],
      "metadata": {
        "colab": {
          "base_uri": "https://localhost:8080/",
          "height": 1000
        },
        "id": "HpNPUT4y_6rp",
        "outputId": "9b528a6b-9ac9-4642-84fe-39656a25fe57"
      },
      "execution_count": null,
      "outputs": [
        {
          "output_type": "stream",
          "name": "stdout",
          "text": [
            "Epoch 1/70 Step 200/938 LossL0.0519\n",
            "Epoch 1/70 Step 400/938 LossL0.2622\n",
            "Epoch 1/70 Step 600/938 LossL0.1188\n",
            "Epoch 1/70 Step 800/938 LossL0.0135\n",
            "Epoch 2/70 Step 200/938 LossL0.0528\n",
            "Epoch 2/70 Step 400/938 LossL0.1231\n",
            "Epoch 2/70 Step 600/938 LossL0.0357\n",
            "Epoch 2/70 Step 800/938 LossL0.0711\n",
            "Epoch 3/70 Step 200/938 LossL0.0312\n",
            "Epoch 3/70 Step 400/938 LossL0.1055\n",
            "Epoch 3/70 Step 600/938 LossL0.0645\n",
            "Epoch 3/70 Step 800/938 LossL0.0241\n",
            "Epoch 4/70 Step 200/938 LossL0.0068\n",
            "Epoch 4/70 Step 400/938 LossL0.0589\n",
            "Epoch 4/70 Step 600/938 LossL0.0230\n",
            "Epoch 4/70 Step 800/938 LossL0.0015\n",
            "Epoch 5/70 Step 200/938 LossL0.0168\n",
            "Epoch 5/70 Step 400/938 LossL0.0537\n",
            "Epoch 5/70 Step 600/938 LossL0.0341\n",
            "Epoch 5/70 Step 800/938 LossL0.1191\n",
            "Epoch 6/70 Step 200/938 LossL0.0132\n",
            "Epoch 6/70 Step 400/938 LossL0.1111\n",
            "Epoch 6/70 Step 600/938 LossL0.0263\n",
            "Epoch 6/70 Step 800/938 LossL0.0003\n",
            "Epoch 7/70 Step 200/938 LossL0.0059\n",
            "Epoch 7/70 Step 400/938 LossL0.0248\n",
            "Epoch 7/70 Step 600/938 LossL0.1426\n",
            "Epoch 7/70 Step 800/938 LossL0.0009\n",
            "Epoch 8/70 Step 200/938 LossL0.0305\n",
            "Epoch 8/70 Step 400/938 LossL0.0512\n",
            "Epoch 8/70 Step 600/938 LossL0.0691\n",
            "Epoch 8/70 Step 800/938 LossL0.0002\n",
            "Epoch 9/70 Step 200/938 LossL0.0013\n",
            "Epoch 9/70 Step 400/938 LossL0.0081\n",
            "Epoch 9/70 Step 600/938 LossL0.0016\n",
            "Epoch 9/70 Step 800/938 LossL0.0000\n",
            "Epoch 10/70 Step 200/938 LossL0.0022\n",
            "Epoch 10/70 Step 400/938 LossL0.0473\n",
            "Epoch 10/70 Step 600/938 LossL0.0088\n",
            "Epoch 10/70 Step 800/938 LossL0.0178\n",
            "Epoch 11/70 Step 200/938 LossL0.0079\n",
            "Epoch 11/70 Step 400/938 LossL0.0940\n",
            "Epoch 11/70 Step 600/938 LossL0.0388\n",
            "Epoch 11/70 Step 800/938 LossL0.0017\n",
            "Epoch 12/70 Step 200/938 LossL0.0003\n",
            "Epoch 12/70 Step 400/938 LossL0.0220\n",
            "Epoch 12/70 Step 600/938 LossL0.0011\n",
            "Epoch 12/70 Step 800/938 LossL0.0002\n",
            "Epoch 13/70 Step 200/938 LossL0.0011\n",
            "Epoch 13/70 Step 400/938 LossL0.0042\n",
            "Epoch 13/70 Step 600/938 LossL0.0158\n",
            "Epoch 13/70 Step 800/938 LossL0.0000\n",
            "Epoch 14/70 Step 200/938 LossL0.0084\n",
            "Epoch 14/70 Step 400/938 LossL0.0001\n",
            "Epoch 14/70 Step 600/938 LossL0.0012\n",
            "Epoch 14/70 Step 800/938 LossL0.0001\n",
            "Epoch 15/70 Step 200/938 LossL0.0055\n",
            "Epoch 15/70 Step 400/938 LossL0.0005\n",
            "Epoch 15/70 Step 600/938 LossL0.0466\n",
            "Epoch 15/70 Step 800/938 LossL0.0000\n",
            "Epoch 16/70 Step 200/938 LossL0.0015\n",
            "Epoch 16/70 Step 400/938 LossL0.0365\n",
            "Epoch 16/70 Step 600/938 LossL0.0004\n",
            "Epoch 16/70 Step 800/938 LossL0.0000\n",
            "Epoch 17/70 Step 200/938 LossL0.0021\n",
            "Epoch 17/70 Step 400/938 LossL0.0370\n",
            "Epoch 17/70 Step 600/938 LossL0.0016\n",
            "Epoch 17/70 Step 800/938 LossL0.0011\n",
            "Epoch 18/70 Step 200/938 LossL0.0077\n",
            "Epoch 18/70 Step 400/938 LossL0.0004\n",
            "Epoch 18/70 Step 600/938 LossL0.0002\n",
            "Epoch 18/70 Step 800/938 LossL0.0002\n",
            "Epoch 19/70 Step 200/938 LossL0.0001\n",
            "Epoch 19/70 Step 400/938 LossL0.0000\n",
            "Epoch 19/70 Step 600/938 LossL0.0014\n",
            "Epoch 19/70 Step 800/938 LossL0.0000\n",
            "Epoch 20/70 Step 200/938 LossL0.0045\n",
            "Epoch 20/70 Step 400/938 LossL0.0024\n",
            "Epoch 20/70 Step 600/938 LossL0.0007\n",
            "Epoch 20/70 Step 800/938 LossL0.0002\n",
            "Epoch 21/70 Step 200/938 LossL0.0000\n",
            "Epoch 21/70 Step 400/938 LossL0.0000\n",
            "Epoch 21/70 Step 600/938 LossL0.0318\n",
            "Epoch 21/70 Step 800/938 LossL0.0025\n",
            "Epoch 22/70 Step 200/938 LossL0.0001\n",
            "Epoch 22/70 Step 400/938 LossL0.0001\n",
            "Epoch 22/70 Step 600/938 LossL0.0624\n",
            "Epoch 22/70 Step 800/938 LossL0.0000\n",
            "Epoch 23/70 Step 200/938 LossL0.0000\n",
            "Epoch 23/70 Step 400/938 LossL0.0004\n",
            "Epoch 23/70 Step 600/938 LossL0.0044\n",
            "Epoch 23/70 Step 800/938 LossL0.0003\n",
            "Epoch 24/70 Step 200/938 LossL0.0000\n",
            "Epoch 24/70 Step 400/938 LossL0.0066\n",
            "Epoch 24/70 Step 600/938 LossL0.0001\n",
            "Epoch 24/70 Step 800/938 LossL0.0001\n",
            "Epoch 25/70 Step 200/938 LossL0.0003\n",
            "Epoch 25/70 Step 400/938 LossL0.0002\n",
            "Epoch 25/70 Step 600/938 LossL0.0015\n",
            "Epoch 25/70 Step 800/938 LossL0.0036\n",
            "Epoch 26/70 Step 200/938 LossL0.0002\n",
            "Epoch 26/70 Step 400/938 LossL0.0086\n",
            "Epoch 26/70 Step 600/938 LossL0.0001\n",
            "Epoch 26/70 Step 800/938 LossL0.0000\n",
            "Epoch 27/70 Step 200/938 LossL0.0000\n",
            "Epoch 27/70 Step 400/938 LossL0.0074\n",
            "Epoch 27/70 Step 600/938 LossL0.1501\n",
            "Epoch 27/70 Step 800/938 LossL0.0014\n",
            "Epoch 28/70 Step 200/938 LossL0.0000\n",
            "Epoch 28/70 Step 400/938 LossL0.0022\n",
            "Epoch 28/70 Step 600/938 LossL0.0131\n",
            "Epoch 28/70 Step 800/938 LossL0.0000\n",
            "Epoch 29/70 Step 200/938 LossL0.0000\n",
            "Epoch 29/70 Step 400/938 LossL0.0001\n",
            "Epoch 29/70 Step 600/938 LossL0.0512\n",
            "Epoch 29/70 Step 800/938 LossL0.0002\n",
            "Epoch 30/70 Step 200/938 LossL0.1005\n",
            "Epoch 30/70 Step 400/938 LossL0.0034\n",
            "Epoch 30/70 Step 600/938 LossL0.0001\n",
            "Epoch 30/70 Step 800/938 LossL0.0001\n",
            "Epoch 31/70 Step 200/938 LossL0.0000\n",
            "Epoch 31/70 Step 400/938 LossL0.0000\n",
            "Epoch 31/70 Step 600/938 LossL0.0000\n",
            "Epoch 31/70 Step 800/938 LossL0.0006\n",
            "Epoch 32/70 Step 200/938 LossL0.0000\n",
            "Epoch 32/70 Step 400/938 LossL0.0000\n",
            "Epoch 32/70 Step 600/938 LossL0.0000\n",
            "Epoch 32/70 Step 800/938 LossL0.0002\n",
            "Epoch 33/70 Step 200/938 LossL0.0001\n",
            "Epoch 33/70 Step 400/938 LossL0.0007\n",
            "Epoch 33/70 Step 600/938 LossL0.0000\n",
            "Epoch 33/70 Step 800/938 LossL0.0052\n",
            "Epoch 34/70 Step 200/938 LossL0.0002\n",
            "Epoch 34/70 Step 400/938 LossL0.0000\n",
            "Epoch 34/70 Step 600/938 LossL0.0000\n",
            "Epoch 34/70 Step 800/938 LossL0.0006\n",
            "Epoch 35/70 Step 200/938 LossL0.0000\n",
            "Epoch 35/70 Step 400/938 LossL0.0000\n"
          ]
        },
        {
          "output_type": "error",
          "ename": "KeyboardInterrupt",
          "evalue": "",
          "traceback": [
            "\u001b[0;31m---------------------------------------------------------------------------\u001b[0m",
            "\u001b[0;31mKeyboardInterrupt\u001b[0m                         Traceback (most recent call last)",
            "\u001b[0;32m<ipython-input-25-3a841a08acba>\u001b[0m in \u001b[0;36m<cell line: 0>\u001b[0;34m()\u001b[0m\n\u001b[1;32m      3\u001b[0m \u001b[0;32mfor\u001b[0m \u001b[0mi\u001b[0m \u001b[0;32min\u001b[0m \u001b[0mrange\u001b[0m\u001b[0;34m(\u001b[0m\u001b[0mep\u001b[0m\u001b[0;34m)\u001b[0m\u001b[0;34m:\u001b[0m\u001b[0;34m\u001b[0m\u001b[0;34m\u001b[0m\u001b[0m\n\u001b[1;32m      4\u001b[0m     \u001b[0;32mfor\u001b[0m \u001b[0mj\u001b[0m\u001b[0;34m,\u001b[0m \u001b[0;34m(\u001b[0m\u001b[0ma\u001b[0m\u001b[0;34m,\u001b[0m \u001b[0mb\u001b[0m\u001b[0;34m)\u001b[0m \u001b[0;32min\u001b[0m \u001b[0menumerate\u001b[0m\u001b[0;34m(\u001b[0m\u001b[0mtrain_loader\u001b[0m\u001b[0;34m)\u001b[0m\u001b[0;34m:\u001b[0m\u001b[0;34m\u001b[0m\u001b[0;34m\u001b[0m\u001b[0m\n\u001b[0;32m----> 5\u001b[0;31m       \u001b[0ma\u001b[0m \u001b[0;34m=\u001b[0m \u001b[0ma\u001b[0m\u001b[0;34m.\u001b[0m\u001b[0mto\u001b[0m\u001b[0;34m(\u001b[0m\u001b[0mdev\u001b[0m\u001b[0;34m)\u001b[0m\u001b[0;34m\u001b[0m\u001b[0;34m\u001b[0m\u001b[0m\n\u001b[0m\u001b[1;32m      6\u001b[0m       \u001b[0mb\u001b[0m \u001b[0;34m=\u001b[0m \u001b[0mb\u001b[0m\u001b[0;34m.\u001b[0m\u001b[0mto\u001b[0m\u001b[0;34m(\u001b[0m\u001b[0mdev\u001b[0m\u001b[0;34m)\u001b[0m\u001b[0;34m\u001b[0m\u001b[0;34m\u001b[0m\u001b[0m\n\u001b[1;32m      7\u001b[0m       \u001b[0;31m#print(a.shape)\u001b[0m\u001b[0;34m\u001b[0m\u001b[0;34m\u001b[0m\u001b[0m\n",
            "\u001b[0;31mKeyboardInterrupt\u001b[0m: "
          ]
        }
      ]
    },
    {
      "cell_type": "code",
      "source": [
        "net.eval()\n",
        "with torch.no_grad():\n",
        "  cur, tot = 0, 0\n",
        "  for a, b in test_loader:\n",
        "    a = a.to(dev)\n",
        "    b = b.to(dev)\n",
        "    a = a.reshape(a.shape[0], 1, 28, 28)\n",
        "    out = net(a)\n",
        "    _, pred = torch.max(out, dim=1)\n",
        "    tot+=b.shape[0]\n",
        "    cur+=(pred==b).sum().item()\n",
        "  print('accuracy:', cur/tot)"
      ],
      "metadata": {
        "id": "FxtYjoEQEPUg",
        "colab": {
          "base_uri": "https://localhost:8080/"
        },
        "outputId": "66e8e645-b6d9-4c7a-df3a-c919bdeae161"
      },
      "execution_count": null,
      "outputs": [
        {
          "output_type": "stream",
          "name": "stdout",
          "text": [
            "accuracy: 0.9943\n"
          ]
        }
      ]
    },
    {
      "cell_type": "code",
      "source": [],
      "metadata": {
        "id": "HwKJn_Uzr4hQ"
      },
      "execution_count": null,
      "outputs": []
    }
  ]
}